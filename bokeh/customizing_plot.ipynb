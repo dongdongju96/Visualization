{
 "cells": [
  {
   "cell_type": "code",
   "execution_count": 1,
   "id": "c3db9b9b",
   "metadata": {},
   "outputs": [],
   "source": [
    "from bokeh.plotting import figure, show\n",
    "from bokeh.io import curdoc"
   ]
  },
  {
   "cell_type": "code",
   "execution_count": 2,
   "id": "9148e72e",
   "metadata": {},
   "outputs": [],
   "source": [
    "# data\n",
    "x = [1, 2, 3, 4, 5]\n",
    "y = [4, 5, 5, 7, 2]"
   ]
  },
  {
   "cell_type": "code",
   "execution_count": 3,
   "id": "e94298ea",
   "metadata": {},
   "outputs": [],
   "source": [
    "# 테마 지정\n",
    "curdoc().theme = \"dark_minimal\""
   ]
  },
  {
   "cell_type": "code",
   "execution_count": 4,
   "id": "6416c51d",
   "metadata": {},
   "outputs": [
    {
     "data": {
      "text/html": [
       "<div style=\"display: table;\"><div style=\"display: table-row;\"><div style=\"display: table-cell;\"><b title=\"bokeh.models.renderers.GlyphRenderer\">GlyphRenderer</b>(</div><div style=\"display: table-cell;\">id&nbsp;=&nbsp;'1037', <span id=\"1040\" style=\"cursor: pointer;\">&hellip;)</span></div></div><div class=\"1039\" style=\"display: none;\"><div style=\"display: table-cell;\"></div><div style=\"display: table-cell;\">coordinates&nbsp;=&nbsp;None,</div></div><div class=\"1039\" style=\"display: none;\"><div style=\"display: table-cell;\"></div><div style=\"display: table-cell;\">data_source&nbsp;=&nbsp;ColumnDataSource(id='1033', ...),</div></div><div class=\"1039\" style=\"display: none;\"><div style=\"display: table-cell;\"></div><div style=\"display: table-cell;\">glyph&nbsp;=&nbsp;Line(id='1034', ...),</div></div><div class=\"1039\" style=\"display: none;\"><div style=\"display: table-cell;\"></div><div style=\"display: table-cell;\">group&nbsp;=&nbsp;None,</div></div><div class=\"1039\" style=\"display: none;\"><div style=\"display: table-cell;\"></div><div style=\"display: table-cell;\">hover_glyph&nbsp;=&nbsp;None,</div></div><div class=\"1039\" style=\"display: none;\"><div style=\"display: table-cell;\"></div><div style=\"display: table-cell;\">js_event_callbacks&nbsp;=&nbsp;{},</div></div><div class=\"1039\" style=\"display: none;\"><div style=\"display: table-cell;\"></div><div style=\"display: table-cell;\">js_property_callbacks&nbsp;=&nbsp;{},</div></div><div class=\"1039\" style=\"display: none;\"><div style=\"display: table-cell;\"></div><div style=\"display: table-cell;\">level&nbsp;=&nbsp;'glyph',</div></div><div class=\"1039\" style=\"display: none;\"><div style=\"display: table-cell;\"></div><div style=\"display: table-cell;\">muted&nbsp;=&nbsp;False,</div></div><div class=\"1039\" style=\"display: none;\"><div style=\"display: table-cell;\"></div><div style=\"display: table-cell;\">muted_glyph&nbsp;=&nbsp;Line(id='1036', ...),</div></div><div class=\"1039\" style=\"display: none;\"><div style=\"display: table-cell;\"></div><div style=\"display: table-cell;\">name&nbsp;=&nbsp;None,</div></div><div class=\"1039\" style=\"display: none;\"><div style=\"display: table-cell;\"></div><div style=\"display: table-cell;\">nonselection_glyph&nbsp;=&nbsp;Line(id='1035', ...),</div></div><div class=\"1039\" style=\"display: none;\"><div style=\"display: table-cell;\"></div><div style=\"display: table-cell;\">selection_glyph&nbsp;=&nbsp;'auto',</div></div><div class=\"1039\" style=\"display: none;\"><div style=\"display: table-cell;\"></div><div style=\"display: table-cell;\">subscribed_events&nbsp;=&nbsp;[],</div></div><div class=\"1039\" style=\"display: none;\"><div style=\"display: table-cell;\"></div><div style=\"display: table-cell;\">syncable&nbsp;=&nbsp;True,</div></div><div class=\"1039\" style=\"display: none;\"><div style=\"display: table-cell;\"></div><div style=\"display: table-cell;\">tags&nbsp;=&nbsp;[],</div></div><div class=\"1039\" style=\"display: none;\"><div style=\"display: table-cell;\"></div><div style=\"display: table-cell;\">view&nbsp;=&nbsp;CDSView(id='1038', ...),</div></div><div class=\"1039\" style=\"display: none;\"><div style=\"display: table-cell;\"></div><div style=\"display: table-cell;\">visible&nbsp;=&nbsp;True,</div></div><div class=\"1039\" style=\"display: none;\"><div style=\"display: table-cell;\"></div><div style=\"display: table-cell;\">x_range_name&nbsp;=&nbsp;'default',</div></div><div class=\"1039\" style=\"display: none;\"><div style=\"display: table-cell;\"></div><div style=\"display: table-cell;\">y_range_name&nbsp;=&nbsp;'default')</div></div></div>\n",
       "<script>\n",
       "(function() {\n",
       "  let expanded = false;\n",
       "  const ellipsis = document.getElementById(\"1040\");\n",
       "  ellipsis.addEventListener(\"click\", function() {\n",
       "    const rows = document.getElementsByClassName(\"1039\");\n",
       "    for (let i = 0; i < rows.length; i++) {\n",
       "      const el = rows[i];\n",
       "      el.style.display = expanded ? \"none\" : \"table-row\";\n",
       "    }\n",
       "    ellipsis.innerHTML = expanded ? \"&hellip;)\" : \"&lsaquo;&lsaquo;&lsaquo;\";\n",
       "    expanded = !expanded;\n",
       "  });\n",
       "})();\n",
       "</script>\n"
      ],
      "text/plain": [
       "GlyphRenderer(id='1037', ...)"
      ]
     },
     "execution_count": 4,
     "metadata": {},
     "output_type": "execute_result"
    }
   ],
   "source": [
    "plot = figure(sizing_mode=\"stretch_width\", max_width=500, height=250)\n",
    "plot.line(x, y)"
   ]
  },
  {
   "cell_type": "code",
   "execution_count": 5,
   "id": "781edf9e",
   "metadata": {},
   "outputs": [],
   "source": [
    "show(plot)"
   ]
  },
  {
   "cell_type": "markdown",
   "id": "8059a5f3",
   "metadata": {},
   "source": [
    "Bokeh comes with five built-in themes: caliber, dark_minimal, light_minimal, night_sky, and contrast. Additionally, you can define your own custom themes."
   ]
  },
  {
   "cell_type": "markdown",
   "id": "1a2753b0",
   "metadata": {},
   "source": [
    "### 방법 1 : plot 만들 때 속성 지정"
   ]
  },
  {
   "cell_type": "code",
   "execution_count": 6,
   "id": "3db19189",
   "metadata": {},
   "outputs": [],
   "source": [
    "# prepare some data\n",
    "x = [1, 2, 3, 4, 5]\n",
    "y = [4, 5, 5, 7, 2]\n",
    "\n",
    "# create a new plot with a specific size\n",
    "p = figure(\n",
    "    title=\"Plot sizing example\",\n",
    "    width=350,\n",
    "    height=250,\n",
    "    x_axis_label=\"x\",\n",
    "    y_axis_label=\"y\",\n",
    ")\n",
    "\n",
    "# add circle renderer\n",
    "circle = p.circle(x, y, fill_color=\"red\", size=15)"
   ]
  },
  {
   "cell_type": "markdown",
   "id": "1795df5a",
   "metadata": {},
   "source": [
    "### 방법 2 : plot 만들고 나서 속성 지정"
   ]
  },
  {
   "cell_type": "code",
   "execution_count": 7,
   "id": "6ad678d9",
   "metadata": {},
   "outputs": [],
   "source": [
    "# prepare some data\n",
    "x = [1, 2, 3, 4, 5]\n",
    "y = [4, 5, 5, 7, 2]\n",
    "\n",
    "# create a new plot with a specific size\n",
    "p = figure(\n",
    "    title=\"Plot resizing example\",\n",
    "    width=350,\n",
    "    height=250,\n",
    "    x_axis_label=\"x\",\n",
    "    y_axis_label=\"y\",\n",
    ")\n",
    "\n",
    "# change plot size\n",
    "p.width = 450\n",
    "p.height = 150\n",
    "\n",
    "# add circle renderer\n",
    "circle = p.circle(x, y, fill_color=\"red\", size=15)"
   ]
  },
  {
   "cell_type": "markdown",
   "id": "b8066717",
   "metadata": {},
   "source": [
    "### 화면 맞춤 넓이"
   ]
  },
  {
   "cell_type": "markdown",
   "id": "db656d7d",
   "metadata": {},
   "source": [
    "sizing_mode=\"stretch_width\""
   ]
  },
  {
   "cell_type": "markdown",
   "id": "463e3174",
   "metadata": {},
   "source": [
    "### 축 속성 변경"
   ]
  },
  {
   "cell_type": "code",
   "execution_count": null,
   "id": "c3eb33e1",
   "metadata": {},
   "outputs": [],
   "source": [
    "# change some things about the x-axis\n",
    "plot.xaxis.axis_label = \"Temp\"\n",
    "plot.xaxis.axis_line_width = 3\n",
    "plot.xaxis.axis_line_color = \"red\"\n",
    "\n",
    "# change some things about the y-axis\n",
    "plot.yaxis.axis_label = \"Pressure\"\n",
    "plot.yaxis.major_label_text_color = \"orange\"\n",
    "plot.yaxis.major_label_orientation = \"vertical\"\n",
    "\n",
    "# change things on all axes\n",
    "plot.axis.minor_tick_in = -3\n",
    "plot.axis.minor_tick_out = 6\n",
    "\n",
    "# 축 범위 변경\n",
    "plot.y_range = (0, 25)"
   ]
  },
  {
   "cell_type": "markdown",
   "id": "c7c898ed",
   "metadata": {},
   "source": [
    "### 눈금 형식 변경"
   ]
  },
  {
   "cell_type": "code",
   "execution_count": null,
   "id": "cd972236",
   "metadata": {},
   "outputs": [],
   "source": [
    "from bokeh.models import NumeralTickFormatter\n",
    "\n",
    "# 달러 형식\n",
    "plot.yaxis[0].formatter = NumeralTickFormatter(format=\"$0.00\")\n",
    "# 날짜 형식\n",
    "plot.xaxis[0].formatter = DatetimeTickFormatter(months=\"%b %Y\")\n",
    "\n",
    "# 로그 형식\n",
    "# data\n",
    "x = [0.1, 0.5, 1.0, 1.5, 2.0, 2.5, 3.0]\n",
    "y0 = [i**2 for i in x]\n",
    "y1 = [10**i for i in x]\n",
    "y2 = [10**(i**2) for i in x]\n",
    "\n",
    "plot = figure(\n",
    "    title=\"Logarithmic axis example\",\n",
    "    sizing_mode=\"stretch_width\",\n",
    "    height=300,\n",
    "    max_width=500,\n",
    "    x_axis_label=\"sections\",\n",
    "    y_axis_label=\"particles\",\n",
    ")\n",
    "\n",
    "\n",
    "plot.y_axis_type=\"log\",\n",
    "plot.y_range=[0.001, 10 ** 11],"
   ]
  },
  {
   "cell_type": "markdown",
   "id": "c6a4ce66",
   "metadata": {},
   "source": [
    "### 그리드 형식 변경"
   ]
  },
  {
   "cell_type": "code",
   "execution_count": 8,
   "id": "dcd0ff4f",
   "metadata": {},
   "outputs": [],
   "source": [
    "x = [1, 2, 3, 4, 5]\n",
    "y = [4, 5, 5, 7, 2]\n",
    "\n",
    "# create a plot\n",
    "p = figure(\n",
    "    title=\"Customized grid lines example\",\n",
    "    sizing_mode=\"stretch_width\",\n",
    "    max_width=500,\n",
    "    height=250,\n",
    ")\n",
    "\n",
    "# add a renderer\n",
    "p.line(x, y, line_color=\"green\", line_width=2)\n",
    "\n",
    "# change things only on the x-grid\n",
    "p.xgrid.grid_line_color = \"red\"\n",
    "\n",
    "# change things only on the y-grid\n",
    "p.ygrid.grid_line_alpha = 0.8\n",
    "p.ygrid.grid_line_dash = [6, 4]\n",
    "\n",
    "# show the results\n",
    "show(p)"
   ]
  },
  {
   "cell_type": "markdown",
   "id": "5327ad9f",
   "metadata": {},
   "source": [
    "### plot 배경 색 변경"
   ]
  },
  {
   "cell_type": "code",
   "execution_count": null,
   "id": "4786f5d7",
   "metadata": {},
   "outputs": [],
   "source": [
    "plot.background_fill_color = (204, 255, 255)\n",
    "plot.border_fill_color = (102, 204, 255)\n",
    "plot.outline_line_color = (0, 0, 255)"
   ]
  },
  {
   "cell_type": "markdown",
   "id": "6d09c70e",
   "metadata": {},
   "source": [
    "### hover, tooltips 추가"
   ]
  },
  {
   "cell_type": "code",
   "execution_count": null,
   "id": "d8e8d8af",
   "metadata": {},
   "outputs": [],
   "source": [
    "from bokeh.models import HoverTool\n",
    "\n",
    "# prepare some data\n",
    "x = [1, 2, 3, 4, 5]\n",
    "y = [4, 5, 5, 7, 2]\n",
    "\n",
    "p = figure(\n",
    "    y_range=(0, 10),\n",
    "    toolbar_location=None,\n",
    "    tools=[HoverTool()],\n",
    "    tooltips=\"Data point @x has the value @y\",\n",
    "    sizing_mode=\"stretch_width\",\n",
    "    max_width=500,\n",
    "    height=250,\n",
    ")\n",
    "\n",
    "# add renderers\n",
    "p.circle(x, y, size=10)\n",
    "p.line(x, y, line_width=2)\n",
    "\n",
    "# show the results\n",
    "show(p)"
   ]
  }
 ],
 "metadata": {
  "hide_input": false,
  "kernelspec": {
   "display_name": "datastory",
   "language": "python",
   "name": "datastory"
  },
  "language_info": {
   "codemirror_mode": {
    "name": "ipython",
    "version": 3
   },
   "file_extension": ".py",
   "mimetype": "text/x-python",
   "name": "python",
   "nbconvert_exporter": "python",
   "pygments_lexer": "ipython3",
   "version": "3.9.7"
  }
 },
 "nbformat": 4,
 "nbformat_minor": 5
}
