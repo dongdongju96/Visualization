{
 "cells": [
  {
   "cell_type": "code",
   "execution_count": 1,
   "id": "331d9750",
   "metadata": {},
   "outputs": [],
   "source": [
    "from bokeh.plotting import figure, show"
   ]
  },
  {
   "cell_type": "code",
   "execution_count": 2,
   "id": "678f7314",
   "metadata": {},
   "outputs": [],
   "source": [
    "x = [1, 2, 3, 4, 5]\n",
    "y1 = [4, 5, 5, 7, 2]\n",
    "y2 = [2, 3, 4, 5, 6]"
   ]
  },
  {
   "cell_type": "code",
   "execution_count": 3,
   "id": "0034462a",
   "metadata": {},
   "outputs": [],
   "source": [
    "plot = figure(title=\"legend example\")"
   ]
  },
  {
   "cell_type": "code",
   "execution_count": 5,
   "id": "74c5371d",
   "metadata": {},
   "outputs": [],
   "source": [
    "line = plot.line(x, y1, legend_label=\"temp.\", line_color=\"blue\", line_width=2)\n",
    "circle = plot.circle(x, y2, legend_label=\"objects\",\n",
    "                     fill_color=\"red\", fill_alpha=0.5, line_color=\"blue\",\n",
    "                     size=80)"
   ]
  },
  {
   "cell_type": "code",
   "execution_count": 6,
   "id": "d54bf1fe",
   "metadata": {},
   "outputs": [],
   "source": [
    "# 범례 위치 지정\n",
    "plot.legend.location = \"top_left\"\n",
    "\n",
    "# 범례 제목\n",
    "plot.legend.title = \"obervations\"\n",
    "\n",
    "# 범례 글씨체 변경\n",
    "plot.legend.label_text_font = \"times\"\n",
    "plot.legend.label_text_font_style = \"italic\"\n",
    "plot.legend.label_text_color = \"navy\"\n",
    "\n",
    "# 범례 배경 설정\n",
    "plot.legend.border_line_width = 3\n",
    "plot.legend.border_line_color = \"navy\"\n",
    "plot.legend.border_line_alpha = 0.8\n",
    "plot.legend.background_fill_color = \"navy\"\n",
    "plot.legend.background_fill_alpha = 0.2"
   ]
  },
  {
   "cell_type": "code",
   "execution_count": 7,
   "id": "d413e412",
   "metadata": {},
   "outputs": [],
   "source": [
    "show(plot)"
   ]
  },
  {
   "cell_type": "code",
   "execution_count": 8,
   "id": "dad184f6",
   "metadata": {},
   "outputs": [],
   "source": [
    "x = [1, 2, 3, 4, 5]\n",
    "y = [6, 7, 2, 4, 5]"
   ]
  },
  {
   "cell_type": "code",
   "execution_count": 9,
   "id": "e3dae3a8",
   "metadata": {},
   "outputs": [],
   "source": [
    "plot = figure(title=\"headline example\")\n",
    "\n",
    "# 선 추가\n",
    "line = plot.line(x, y, legend_label=\"temp\", line_width=2)\n",
    "\n",
    "# 타이틀 위치 설정\n",
    "plot.title_location = \"left\"\n",
    "\n",
    "# 타이틀 변경\n",
    "plot.title.text = \"changing headline text example\"\n",
    "\n",
    "# 타이틀 스타일 설정\n",
    "plot.title.text_font_size = \"25px\"\n",
    "plot.title.align = \"right\"\n",
    "plot.title.background_fill_color = \"darkgrey\"\n",
    "plot.title.text_color = \"white\""
   ]
  },
  {
   "cell_type": "code",
   "execution_count": 10,
   "id": "e3372bbe",
   "metadata": {},
   "outputs": [],
   "source": [
    "show(plot)"
   ]
  },
  {
   "cell_type": "code",
   "execution_count": 11,
   "id": "1b653d2b",
   "metadata": {},
   "outputs": [],
   "source": [
    "# Annotation 주석 달기"
   ]
  },
  {
   "cell_type": "code",
   "execution_count": 12,
   "id": "61eea4d1",
   "metadata": {},
   "outputs": [],
   "source": [
    "# box 형태의 annotation을 위한 클래스\n",
    "from bokeh.models import BoxAnnotation"
   ]
  },
  {
   "cell_type": "code",
   "execution_count": 13,
   "id": "9b9eab55",
   "metadata": {},
   "outputs": [],
   "source": [
    "import random\n",
    "\n",
    "x = list(range(0, 51))\n",
    "y = random.sample(range(0,100), 51)\n",
    "\n",
    "plot = figure(title=\"Box annotation example\")\n",
    "\n",
    "line = plot.line(x, y, line_color=\"#000000\", line_width=2)"
   ]
  },
  {
   "cell_type": "code",
   "execution_count": 14,
   "id": "3fcce653",
   "metadata": {},
   "outputs": [],
   "source": [
    "# 박스 주석 추가\n",
    "low_box = BoxAnnotation(top=20, fill_alpha=0.2, fill_color=\"#F0E442\")\n",
    "mid_box = BoxAnnotation(bottom=20, top=80, fill_alpha=0.2, fill_color=\"#009E73\")\n",
    "high_box = BoxAnnotation(bottom=80, fill_alpha=0.2, fill_color=\"#F0E442\")\n",
    "\n",
    "# plot에 추가\n",
    "plot.add_layout(low_box)\n",
    "plot.add_layout(mid_box)\n",
    "plot.add_layout(high_box)"
   ]
  },
  {
   "cell_type": "code",
   "execution_count": 15,
   "id": "526c1c7f",
   "metadata": {},
   "outputs": [],
   "source": [
    "show(plot)"
   ]
  }
 ],
 "metadata": {
  "hide_input": false,
  "kernelspec": {
   "display_name": "datastory",
   "language": "python",
   "name": "datastory"
  },
  "language_info": {
   "codemirror_mode": {
    "name": "ipython",
    "version": 3
   },
   "file_extension": ".py",
   "mimetype": "text/x-python",
   "name": "python",
   "nbconvert_exporter": "python",
   "pygments_lexer": "ipython3",
   "version": "3.9.7"
  }
 },
 "nbformat": 4,
 "nbformat_minor": 5
}
